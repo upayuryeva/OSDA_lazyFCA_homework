{
 "cells": [
  {
   "cell_type": "markdown",
   "metadata": {},
   "source": [
    "<h1><center>OSDA Homework</center></h1>\n",
    "<h2><center>Yuryeva Irina</center></h2>"
   ]
  },
  {
   "cell_type": "markdown",
   "metadata": {},
   "source": [
    "## 1. Datasets information\n",
    "\n",
    "<b>Dataset:</b> 1   \n",
    "<b>Name: </b>\"Congressional Voting Records Data Set\" <br>\n",
    "<b>Link: </b>https://archive.ics.uci.edu/ml/datasets/congressional+voting+records <br>\n",
    "<b>Number of instances:</b> 435 <br>\n",
    "<b>Number of attributes:</b> 16 <br>\n",
    "<b>Missing values: </b> Yes <br>\n",
    "\n",
    "<b>Dataset: </b> 2  \n",
    "<b>Name: </b>\"Tic-Tac-Toe Endgame Data Set\" <br>\n",
    "<b>Link: </b>https://archive.ics.uci.edu/ml/datasets/Tic-Tac-Toe+Endgame<br>\n",
    "<b>Number of instances:</b> 958 <br>\n",
    "<b>Number of attributes:</b> 27 <br>\n",
    "<b>Missing values: </b> No <br>"
   ]
  },
  {
   "cell_type": "markdown",
   "metadata": {},
   "source": [
    "## 2. Datasets preparation\n"
   ]
  },
  {
   "cell_type": "markdown",
   "metadata": {},
   "source": [
    "### 2.1 Importing datasets"
   ]
  },
  {
   "cell_type": "code",
   "execution_count": 30,
   "metadata": {
    "pycharm": {
     "name": "#%%\n"
    }
   },
   "outputs": [],
   "source": [
    "import pandas as pd\n",
    "import numpy as np\n",
    "\n",
    "# Congressional Voting Records Data Set\n",
    "df_1 = pd.read_csv(\n",
    "    filepath_or_buffer=\"http://archive.ics.uci.edu/ml/machine-learning-databases/voting-records/house-votes-84.data\", \n",
    "    header=None, \n",
    "    sep=',')\n",
    "headers = ['target', 1,2,3,4,5,6,7,8,9,10,11,12,13,14,15,16]\n",
    "df_1.columns = headers\n",
    "\n",
    "# Tic-Tac-Toe Endgame Data Set\n",
    "df_2 = pd.read_csv(\n",
    "    filepath_or_buffer=\"https://archive.ics.uci.edu/ml/machine-learning-databases/tic-tac-toe/tic-tac-toe.data\", \n",
    "    header=None, \n",
    "    sep=',')\n",
    "headers_2 = [1,2,3,4,5,6,7,8,9,'target']\n",
    "df_2.columns = headers_2"
   ]
  },
  {
   "cell_type": "markdown",
   "metadata": {},
   "source": [
    "### 2.2 Preparation of datasets"
   ]
  },
  {
   "cell_type": "markdown",
   "metadata": {},
   "source": [
    "#### 2.2.1 Preparation of Congressional Voting Records Data Set\n",
    "Changing string values to variables and deleting rows with NaNs."
   ]
  },
  {
   "cell_type": "code",
   "execution_count": 31,
   "metadata": {
    "pycharm": {
     "name": "#%%\n"
    }
   },
   "outputs": [],
   "source": [
    "df_1 = df_1.replace('?', np.nan)\n",
    "df_1 = df_1.replace('y', True)\n",
    "df_1 = df_1.replace('n', False)\n",
    "df_1 = df_1.dropna().reset_index(drop=True)\n",
    "df_1 = df_1.replace('democrat', True)\n",
    "df_1 = df_1.replace('republican', False)\n",
    "df_1 = df_1[list(df_1.columns.values)].astype('bool')"
   ]
  },
  {
   "cell_type": "markdown",
   "metadata": {},
   "source": [
    "#### 2.2.2 Preparation of Tic-Tac-Toe Dataset\n",
    "Getting dummy features from all features and changing string values to bool variables"
   ]
  },
  {
   "cell_type": "code",
   "execution_count": 32,
   "metadata": {},
   "outputs": [],
   "source": [
    "df_2 = df_2.replace('positive', True)\n",
    "df_2 = df_2.replace('negative', False)\n",
    "df_2 = pd.get_dummies(df_2, columns=[1,2,3,4,5,6,7,8,9])\n",
    "df_2 = df_2[list(df_2.columns.values)].astype('bool')"
   ]
  },
  {
   "cell_type": "markdown",
   "metadata": {},
   "source": [
    "### 2.3 Saving prepared datasets "
   ]
  },
  {
   "cell_type": "code",
   "execution_count": 33,
   "metadata": {
    "pycharm": {
     "name": "#%%\n"
    },
    "scrolled": true
   },
   "outputs": [],
   "source": [
    "import os\n",
    "\n",
    "directory = r'/Users/upayuryva/PycharmProjects/pythonProject3/datasets'\n",
    "df_1.to_csv(os.path.join(directory, r'cvrds.csv'), index=False)\n",
    "df_2.to_csv(os.path.join(directory, r'ttt.csv'), index=False)"
   ]
  },
  {
   "cell_type": "markdown",
   "metadata": {},
   "source": [
    "## 3. Supporting functions"
   ]
  },
  {
   "cell_type": "markdown",
   "metadata": {},
   "source": [
    "### 3.1 Cross-Validation function\n"
   ]
  },
  {
   "cell_type": "code",
   "execution_count": 34,
   "metadata": {
    "pycharm": {
     "name": "#%%\n"
    }
   },
   "outputs": [],
   "source": [
    "from sklearn import model_selection\n",
    "import sys\n",
    "\n",
    "def cross_validation(path_in, path_out, dataset_short_name, n_splits):\n",
    "    \n",
    "    df_prep = pd.read_csv(path_in)\n",
    "    kf = model_selection.KFold(n_splits=n_splits, shuffle=True, random_state=None)\n",
    "    kf.get_n_splits(df_prep)\n",
    "    k = 1\n",
    "    \n",
    "    for train_index, test_index in kf.split(df_prep):\n",
    "        df_prep.iloc[train_index].to_csv(os.path.join(path_out, dataset_short_name+'_train_'+str(k)+'.csv'),index=False)\n",
    "        df_prep.iloc[test_index].to_csv(os.path.join(path_out, dataset_short_name+'_test_'+str(k)+'.csv'),index=False)\n",
    "        k += 1\n",
    "        \n",
    "    return 'Cross Validation Completed'"
   ]
  },
  {
   "cell_type": "markdown",
   "metadata": {},
   "source": [
    "### 3.2 Data preprocessing"
   ]
  },
  {
   "cell_type": "code",
   "execution_count": 35,
   "metadata": {
    "pycharm": {
     "name": "#%%\n"
    }
   },
   "outputs": [],
   "source": [
    "def data_preprocessing(path_train, path_test, target_column = 'target'):\n",
    "    \n",
    "    train = pd.read_csv(path_train)\n",
    "    test = pd.read_csv(path_test)\n",
    "    test_target = pd.read_csv(path_test)\n",
    "    test_target = test_target[target_column].to_numpy()\n",
    "    \n",
    "    plus_context = train[train[target_column] == True]\n",
    "    minus_context = train[train[target_column] == False]\n",
    "\n",
    "    plus_context = plus_context.drop(target_column, axis = 1).to_numpy()\n",
    "    minus_context = minus_context.drop(target_column, axis = 1).to_numpy()\n",
    "    test = test.drop(target_column, axis = 1).to_numpy()\n",
    "    \n",
    "    return plus_context, minus_context, test, test_target"
   ]
  },
  {
   "cell_type": "markdown",
   "metadata": {},
   "source": [
    "### 3.3 Supporting functions for algorithm "
   ]
  },
  {
   "cell_type": "code",
   "execution_count": 36,
   "metadata": {
    "pycharm": {
     "name": "#%%\n"
    }
   },
   "outputs": [],
   "source": [
    "def intersection(set_1, set_2):\n",
    "    intersec = np.equal(set_1, set_2)\n",
    "    intersec_ind = [i for i,x in enumerate(intersec) if x]\n",
    "    return intersec, intersec_ind \n",
    "\n",
    "\n",
    "def add_score(first_context, second_context, test_row, t, alg_num, t_intersec=0):\n",
    "    score = 0\n",
    "    max_n_true = 0\n",
    "    for f_row in first_context:\n",
    "        intersec_first, intersec_first_ind = intersection(test_row, f_row)\n",
    "        n_true = 0\n",
    "        \n",
    "        intersec_first_len_norm = np.sum(intersec_first)/len(test_row)\n",
    "        if alg_num in [1,2]:\n",
    "            if alg_num == 1 or intersec_first_len_norm >= t_intersec:\n",
    "                for s_row in second_context:\n",
    "                    intersec_second, intersec_second_ind = intersection(f_row, s_row)\n",
    "                    if set(intersec_first_ind).issubset(set(intersec_second_ind)):\n",
    "                        n_true += 1\n",
    "                if n_true <= t: \n",
    "                    score += 1\n",
    "        \n",
    "        if alg_num == 3:\n",
    "            if intersec_first_len_norm < t_intersec:\n",
    "                continue\n",
    "            for s_row in second_context:\n",
    "                intersec_second, intersec_second_ind = intersection(f_row, s_row)\n",
    "                if set(intersec_first_ind).issubset(set(intersec_second_ind)):\n",
    "                    n_true += 1\n",
    "                    max_n_true = max(n_true, max_n_true)\n",
    "            score = max_n_true\n",
    "            \n",
    "    return score"
   ]
  },
  {
   "cell_type": "markdown",
   "metadata": {},
   "source": [
    "### 3.4 Metrics test"
   ]
  },
  {
   "cell_type": "code",
   "execution_count": 37,
   "metadata": {
    "pycharm": {
     "name": "#%%\n"
    }
   },
   "outputs": [],
   "source": [
    "from sklearn.metrics import accuracy_score\n",
    "from sklearn.metrics import roc_auc_score\n",
    "from sklearn.metrics import precision_score\n",
    "from sklearn.metrics import recall_score\n",
    "\n",
    "def metrics_test(y_real, y_pred):\n",
    "    acc = accuracy_score(y_real, y_pred)\n",
    "    roc_auc = roc_auc_score(y_real, y_pred)\n",
    "    prc = precision_score(y_real, y_pred)\n",
    "    rcl = recall_score(y_real, y_pred)\n",
    "    return acc, roc_auc, prc, rcl"
   ]
  },
  {
   "cell_type": "markdown",
   "metadata": {},
   "source": [
    "## 4. Algorithms"
   ]
  },
  {
   "cell_type": "markdown",
   "metadata": {},
   "source": [
    "### 4.1 Algorithm 1\n",
    "\n",
    "Algorithm based on voting system, where every plus context object votes for plus classification, if its intersection with test object is not a subset(depending on thresholds) of of minus context and vice versa.\n",
    "Test object classifies positive, if there is more votes for plus classification (and vice versa).\n",
    "There is one threshold, which controls, how many subsets of plus/minus and test sets intersection can be in minus/plus context"
   ]
  },
  {
   "cell_type": "code",
   "execution_count": 38,
   "metadata": {
    "pycharm": {
     "name": "#%%\n"
    }
   },
   "outputs": [],
   "source": [
    "from random import choice\n",
    "\n",
    "def alg_1(test, plus_context, minus_context, threshold=0):\n",
    "    norm_plus = (len(plus_context)+len(minus_context))//len(plus_context)\n",
    "    norm_minus = (len(plus_context)+len(minus_context))//len(minus_context)\n",
    "    plus_score = 0 \n",
    "    minus_score = 0 \n",
    "    random_counter = 0 \n",
    "    predict = []\n",
    "    for test_row in test:\n",
    "        plus_score = add_score(plus_context, minus_context, test_row, threshold, 1)\n",
    "        plus_score *= norm_plus\n",
    "        minus_score = add_score(minus_context, plus_context, test_row, threshold, 1)\n",
    "        minus_score *= norm_minus\n",
    "        if plus_score > minus_score:\n",
    "            predict.append(True)\n",
    "        elif plus_score < minus_score:\n",
    "            predict.append(False)\n",
    "        elif plus_score == minus_score:\n",
    "            predict.append(choice([False,True]))\n",
    "            random_counter += 1\n",
    "    randomness = random_counter/len(test)\n",
    "    return predict, randomness"
   ]
  },
  {
   "cell_type": "markdown",
   "metadata": {
    "pycharm": {
     "name": "#%%\n"
    }
   },
   "source": [
    "### 4.2 Algorithm 2\n",
    "\n",
    "Algorithm based on voting system, where eveery plus context object votes for plus classification, if its intersection(depending on threshold) with test object is not a subset(depending on threshold) of of minus context and vice versa. Test set is True, if there is more votes for plus classification (and vice versa)."
   ]
  },
  {
   "cell_type": "code",
   "execution_count": 39,
   "metadata": {
    "pycharm": {
     "name": "#%%\n"
    }
   },
   "outputs": [],
   "source": [
    "def alg_2(test, plus_context, minus_context, threshold, threshold_intersec):\n",
    "    norm_plus = (len(plus_context)+len(minus_context))//len(plus_context)\n",
    "    norm_minus = (len(plus_context)+len(minus_context))//len(minus_context)\n",
    "    plus_score = 0 \n",
    "    minus_score = 0 \n",
    "    random_counter = 0 \n",
    "    predict = []\n",
    "    for test_row in test:\n",
    "        plus_score = add_score(plus_context, minus_context, test_row, threshold, 2, threshold_intersec)\n",
    "        plus_score *= norm_plus\n",
    "        minus_score = add_score(minus_context, plus_context, test_row, threshold, 2, threshold_intersec)\n",
    "        minus_score *= norm_minus\n",
    "        if plus_score > minus_score:\n",
    "            predict.append(True)\n",
    "        elif plus_score < minus_score:\n",
    "            predict.append(False)\n",
    "        elif plus_score == minus_score:\n",
    "            predict.append(choice([False,True]))\n",
    "            random_counter += 1\n",
    "    randomness = random_counter/len(test)\n",
    "    return predict, randomness"
   ]
  },
  {
   "cell_type": "markdown",
   "metadata": {},
   "source": [
    "### 4.3 Algorithm 3\n",
    "Algorithm classifies test object by maximum subset of plus/minus context object and test object intersection in minus/plus context object.\n",
    "Test object is True, if there is more votes for plus classification (and vice versa).\n",
    "It has threshold_intersec, which controls, how many elements can be in plus/minus context and test sets intersection."
   ]
  },
  {
   "cell_type": "code",
   "execution_count": 40,
   "metadata": {},
   "outputs": [],
   "source": [
    "def alg_3(test, plus_context, minus_context, threshold, threshold_intersec):\n",
    "    plus_score = 0 \n",
    "    minus_score = 0 \n",
    "    random_counter = 0 \n",
    "    predict = []\n",
    "    for test_row in test:\n",
    "        plus_score = add_score(plus_context, minus_context, test_row, threshold, 3, threshold_intersec)\n",
    "        minus_score = add_score(minus_context, plus_context, test_row, threshold, 3, threshold_intersec)\n",
    "        if plus_score < minus_score:\n",
    "            predict.append(True)\n",
    "        elif plus_score > minus_score:\n",
    "            predict.append(False)\n",
    "        elif plus_score == minus_score:\n",
    "            predict.append(choice([False,True]))\n",
    "            random_counter += 1\n",
    "    \n",
    "    randomness = random_counter/len(test)\n",
    "    return predict, randomness"
   ]
  },
  {
   "cell_type": "markdown",
   "metadata": {},
   "source": [
    "### 4.4 BernoulliNB Algorithm"
   ]
  },
  {
   "cell_type": "code",
   "execution_count": 41,
   "metadata": {},
   "outputs": [],
   "source": [
    "from sklearn.naive_bayes import BernoulliNB\n",
    "\n",
    "def bernoulliNB(dataset_shortname):\n",
    "    cv_path = '/Users/upayuryva/PycharmProjects/pythonProject3/cross_validated/'\n",
    "    y_pred_arr = []\n",
    "    metrics = []\n",
    "    for i in range(1,11):\n",
    "        test = pd.read_csv(cv_path+dataset_shortname+r'_test_'+str(i)+r'.csv')\n",
    "        train = pd.read_csv(cv_path+dataset_shortname+r'_train_'+str(i)+r'.csv')\n",
    "        \n",
    "        X_train = train.drop('target', axis = 1).to_numpy()\n",
    "        y_train = train['target'].to_numpy()\n",
    "        \n",
    "        X_test = test.drop('target', axis = 1).to_numpy()\n",
    "        y_test = test['target'].to_numpy()\n",
    "        \n",
    "        clf = BernoulliNB()\n",
    "        clf.fit(X_train, y_train)\n",
    "        \n",
    "        y_pred = clf.predict(X_test)\n",
    "        \n",
    "        acc, roc_auc, prc, rcl = metrics_test(y_pred, y_test)\n",
    "        metrics.append([acc, roc_auc, prc, rcl, 0])\n",
    "        y_pred_arr.append(y_pred)\n",
    "        \n",
    "    return y_pred_arr, y_test, metrics"
   ]
  },
  {
   "cell_type": "markdown",
   "metadata": {
    "pycharm": {
     "name": "#%%\n"
    }
   },
   "source": [
    "## 5. Check algorithm"
   ]
  },
  {
   "cell_type": "code",
   "execution_count": 42,
   "metadata": {
    "pycharm": {
     "name": "#%%\n"
    }
   },
   "outputs": [],
   "source": [
    "def alg_eval(dataset_shortname, alg_n, threshold_subset, threshold_intersec=0, is_already_cv = True):\n",
    "\n",
    "    ds_path = '/Users/upayuryva/PycharmProjects/pythonProject3/datasets/'\n",
    "    cv_path = '/Users/upayuryva/PycharmProjects/pythonProject3/cross_validated/'\n",
    "    \n",
    "    metrics = []\n",
    "    y_pred_arr = []\n",
    "    n_splits = 10\n",
    "    \n",
    "    #cross validation\n",
    "    if not is_already_cv:\n",
    "        cross_validation(path_in=ds_path+dataset_shortname+r'.csv', \n",
    "                         path_out=cv_path,\n",
    "                         dataset_short_name=dataset_shortname, \n",
    "                         n_splits=10)\n",
    "    for i in range(1,n_splits+1):\n",
    "        # data preprosessing\n",
    "        plus_context, minus_context, test, test_target = data_preprocessing(path_train=cv_path+dataset_shortname+r'_train_'+str(i)+r'.csv',\n",
    "                                                                          path_test=cv_path+dataset_shortname+r'_test_'+str(i)+r'.csv')\n",
    "        \n",
    "        # algorithm\n",
    "        y_real = test_target\n",
    "        \n",
    "        if alg_n == 1:\n",
    "            y_pred, randomness = alg_1(test, plus_context, minus_context, threshold_subset)\n",
    "        if alg_n == 2:\n",
    "            y_pred, randomness = alg_2(test, plus_context, minus_context, threshold_subset, threshold_intersec)\n",
    "        if alg_n == 3:\n",
    "            y_pred, randomness = alg_3(test, plus_context, minus_context, threshold_subset, threshold_intersec)\n",
    "        # metrics\n",
    "        acc, roc_auc, prc, rcl = metrics_test(y_pred, y_real)\n",
    "        metrics.append([acc, roc_auc, prc, rcl, randomness])\n",
    "        #y_pred_arr.append(y_pred)\n",
    "        \n",
    "    return y_pred, y_real, metrics\n"
   ]
  },
  {
   "cell_type": "markdown",
   "metadata": {},
   "source": [
    "## 6. Find optimal parameters"
   ]
  },
  {
   "cell_type": "code",
   "execution_count": 43,
   "metadata": {},
   "outputs": [],
   "source": [
    "def avg_metrics(metrics):\n",
    "    np_metrics = np.array(metrics)\n",
    "    return np.mean(np_metrics, axis=0)\n",
    "\n",
    "def print_metrics(metrics):\n",
    "    print('Accuracy score: {:.4f}'.format(metrics[0]))\n",
    "    print('Roc AUC Score: {:.4f}'.format(metrics[1]))\n",
    "    print('Precision Score: {:.4f}'.format(metrics[2]))\n",
    "    print('Recall Score: {:.4f}'.format(metrics[3]))\n",
    "    print('Randomness: {:.4f}'.format(metrics[4]))"
   ]
  },
  {
   "cell_type": "code",
   "execution_count": 55,
   "metadata": {},
   "outputs": [],
   "source": [
    "import matplotlib.pyplot as plt\n",
    "import sys\n",
    "\n",
    "def plot_show(array_avg):\n",
    "    plt.plot(array_avg)\n",
    "    plt.legend(['Accuracy score', 'ROC AUC', 'Precision','Recall', 'Randomness'],bbox_to_anchor=(1.05, 1), loc='upper left', borderaxespad=0.)\n",
    "    plt.grid()\n",
    "    plt.show()\n",
    "\n",
    "def hp_tuning(dataset_shortname, alg_n):\n",
    "    avg_m_arr = np.empty((0,5), float)\n",
    "    if alg_n == 1:\n",
    "        for i in range(0,5):\n",
    "            _, _, metrics = alg_eval(dataset_shortname=dataset_shortname, alg_n=alg_n, threshold_subset=i)\n",
    "            avg_m = avg_metrics(metrics)\n",
    "            avg_m_arr = np.vstack([avg_m_arr, avg_m])\n",
    "    else:\n",
    "        for i in np.arange(0, 1.1, 0.1):\n",
    "            _, _, metrics = alg_eval(dataset_shortname=dataset_shortname, alg_n=alg_n, threshold_subset=0, threshold_intersec=i)\n",
    "            avg_m = avg_metrics(metrics)\n",
    "            avg_m_arr = np.vstack([avg_m_arr, avg_m])\n",
    "    \n",
    "    plot_show(avg_m_arr)\n",
    "    \n",
    "    return avg_m_arr"
   ]
  },
  {
   "cell_type": "code",
   "execution_count": 47,
   "metadata": {},
   "outputs": [
    {
     "data": {
      "image/png": "[encoded data removed]",
      "text/plain": [
       "<Figure size 432x288 with 1 Axes>"
      ]
     },
     "metadata": {
      "needs_background": "light"
     },
     "output_type": "display_data"
    },
    {
     "data": {
      "text/plain": [
       "array([[0.91394928, 0.91074634, 0.87511889, 0.98222222, 0.        ],\n",
       "       [0.8798913 , 0.89175325, 0.79587462, 1.        , 0.        ],\n",
       "       [0.84148551, 0.86853584, 0.72937279, 1.        , 0.        ],\n",
       "       [0.79384058, 0.84105769, 0.6260205 , 1.        , 0.        ],\n",
       "       [0.77228261, 0.8299697 , 0.59139837, 1.        , 0.        ],\n",
       "       [0.75507246, 0.82407425, 0.56206863, 1.        , 0.        ],\n",
       "       [0.74637681, 0.81956681, 0.53706863, 1.        , 0.        ],\n",
       "       [0.72463768, 0.81134491, 0.49320898, 1.        , 0.        ],\n",
       "       [0.69873188, 0.80027947, 0.44058994, 1.        , 0.        ],\n",
       "       [0.67699275, 0.79217145, 0.40019311, 1.        , 0.00869565]])"
      ]
     },
     "execution_count": 47,
     "metadata": {},
     "output_type": "execute_result"
    }
   ],
   "source": [
    "hp_tuning('cvrds', 1)"
   ]
  },
  {
   "cell_type": "code",
   "execution_count": 48,
   "metadata": {},
   "outputs": [
    {
     "data": {
      "image/png": "[encoded data removed]",
      "text/plain": [
       "<Figure size 432x288 with 1 Axes>"
      ]
     },
     "metadata": {
      "needs_background": "light"
     },
     "output_type": "display_data"
    },
    {
     "data": {
      "text/plain": [
       "array([[0.91394928, 0.91074634, 0.87511889, 0.98222222, 0.        ],\n",
       "       [0.91394928, 0.91074634, 0.87511889, 0.98222222, 0.        ],\n",
       "       [0.91394928, 0.91074634, 0.87511889, 0.98222222, 0.        ],\n",
       "       [0.91394928, 0.91074634, 0.87511889, 0.98222222, 0.        ],\n",
       "       [0.90543478, 0.90219017, 0.8646488 , 0.97333333, 0.        ],\n",
       "       [0.90108696, 0.89834402, 0.8646488 , 0.96564103, 0.00434783],\n",
       "       [0.91413043, 0.91114261, 0.88850235, 0.96745921, 0.00434783],\n",
       "       [0.90960145, 0.90712704, 0.87879474, 0.96745921, 0.00851449],\n",
       "       [0.90525362, 0.90318931, 0.87760427, 0.9608658 , 0.01304348],\n",
       "       [0.84945652, 0.83546967, 0.8332514 , 0.88187007, 0.26648551],\n",
       "       [0.65507246, 0.65542908, 0.60708149, 0.70123945, 0.57735507]])"
      ]
     },
     "execution_count": 48,
     "metadata": {},
     "output_type": "execute_result"
    }
   ],
   "source": [
    "hp_tuning('cvrds', 2)"
   ]
  },
  {
   "cell_type": "code",
   "execution_count": 49,
   "metadata": {},
   "outputs": [
    {
     "data": {
      "image/png": "[encoded data removed]",
      "text/plain": [
       "<Figure size 432x288 with 1 Axes>"
      ]
     },
     "metadata": {
      "needs_background": "light"
     },
     "output_type": "display_data"
    },
    {
     "data": {
      "text/plain": [
       "array([[0.87083333, 0.87587885, 0.76093085, 0.98      , 0.00434783],\n",
       "       [0.86648551, 0.87330532, 0.74981974, 0.98      , 0.00434783],\n",
       "       [0.89655797, 0.89999057, 0.81610244, 1.        , 0.00434783],\n",
       "       [0.90978261, 0.90373168, 0.85906401, 0.97980769, 0.01721014],\n",
       "       [0.9182971 , 0.91209984, 0.87453409, 0.98055556, 0.01304348],\n",
       "       [0.90978261, 0.90446581, 0.8690579 , 0.96691087, 0.00869565],\n",
       "       [0.90108696, 0.89938492, 0.86327453, 0.96488095, 0.06884058],\n",
       "       [0.79782609, 0.79075647, 0.75169334, 0.85960817, 0.30144928],\n",
       "       [0.71503623, 0.73006482, 0.60091671, 0.81396825, 0.56865942],\n",
       "       [0.5509058 , 0.54785312, 0.51379635, 0.57996698, 0.96557971],\n",
       "       [0.47355072, 0.48006951, 0.42118341, 0.52923493, 1.        ]])"
      ]
     },
     "execution_count": 49,
     "metadata": {},
     "output_type": "execute_result"
    }
   ],
   "source": [
    "hp_tuning('cvrds', 3)"
   ]
  },
  {
   "cell_type": "code",
   "execution_count": 54,
   "metadata": {},
   "outputs": [
    {
     "name": "stdout",
     "output_type": "stream",
     "text": [
      "0\n",
      "1\n",
      "2\n",
      "3\n",
      "4\n"
     ]
    },
    {
     "data": {
      "image/png": "[encoded data removed]",
      "text/plain": [
       "<Figure size 432x288 with 1 Axes>"
      ]
     },
     "metadata": {
      "needs_background": "light"
     },
     "output_type": "display_data"
    },
    {
     "data": {
      "text/plain": [
       "array([[0.88619518, 0.90925233, 0.98256254, 0.86199598, 0.00104167],\n",
       "       [0.82252193, 0.82876279, 0.93693555, 0.81867042, 0.        ],\n",
       "       [0.77555921, 0.76394828, 0.88279777, 0.79692693, 0.        ],\n",
       "       [0.75778509, 0.74374274, 0.87737764, 0.78302821, 0.003125  ],\n",
       "       [0.73588816, 0.71743709, 0.8555522 , 0.76992133, 0.00626096]])"
      ]
     },
     "execution_count": 54,
     "metadata": {},
     "output_type": "execute_result"
    }
   ],
   "source": [
    "hp_tuning('ttt', 1)"
   ]
  },
  {
   "cell_type": "code",
   "execution_count": 56,
   "metadata": {},
   "outputs": [
    {
     "data": {
      "image/png": "[encoded data removed]",
      "text/plain": [
       "<Figure size 432x288 with 1 Axes>"
      ]
     },
     "metadata": {
      "needs_background": "light"
     },
     "output_type": "display_data"
    },
    {
     "data": {
      "text/plain": [
       "array([[0.88515351, 0.9085339 , 0.98256254, 0.86074027, 0.00104167],\n",
       "       [0.88619518, 0.90925233, 0.98256254, 0.86199598, 0.00104167],\n",
       "       [0.88515351, 0.9085339 , 0.98256254, 0.86074027, 0.00104167],\n",
       "       [0.88619518, 0.90925233, 0.98256254, 0.86199598, 0.00104167],\n",
       "       [0.88619518, 0.90925233, 0.98256254, 0.86199598, 0.00104167],\n",
       "       [0.89245614, 0.91246402, 0.98102408, 0.87011322, 0.00313596],\n",
       "       [0.87788377, 0.87858656, 0.94045215, 0.88062623, 0.00626096],\n",
       "       [0.87372807, 0.85951465, 0.88316625, 0.92071058, 0.00626096],\n",
       "       [0.98125   , 0.97537131, 0.97110844, 1.        , 0.00835526],\n",
       "       [0.51881579, 0.51343272, 0.53201191, 0.6658145 , 1.        ],\n",
       "       [0.49573465, 0.48787503, 0.51484207, 0.64336835, 1.        ]])"
      ]
     },
     "execution_count": 56,
     "metadata": {},
     "output_type": "execute_result"
    }
   ],
   "source": [
    "hp_tuning('ttt', 2)"
   ]
  },
  {
   "cell_type": "code",
   "execution_count": 57,
   "metadata": {},
   "outputs": [
    {
     "data": {
      "image/png": "[encoded data removed]",
      "text/plain": [
       "<Figure size 432x288 with 1 Axes>"
      ]
     },
     "metadata": {
      "needs_background": "light"
     },
     "output_type": "display_data"
    },
    {
     "data": {
      "text/plain": [
       "array([[0.80791667, 0.87781337, 0.99533578, 0.77491246, 0.02089912],\n",
       "       [0.80688596, 0.87889838, 0.99692308, 0.77318137, 0.02089912],\n",
       "       [0.8110636 , 0.88084103, 0.99692308, 0.77706667, 0.02089912],\n",
       "       [0.806875  , 0.8788321 , 0.99692308, 0.77304883, 0.02089912],\n",
       "       [0.63876096, 0.56874374, 0.85679566, 0.677575  , 0.05221491],\n",
       "       [0.93844298, 0.94874409, 0.98720366, 0.92444295, 0.03132675],\n",
       "       [0.83808114, 0.82532831, 0.87202668, 0.87816136, 0.20566886],\n",
       "       [0.95516447, 0.94888501, 0.95974845, 0.97229306, 0.05007675],\n",
       "       [0.47700658, 0.47397364, 0.48997164, 0.62978602, 1.        ],\n",
       "       [0.48757675, 0.48551663, 0.49021241, 0.63931108, 1.        ],\n",
       "       [0.49901316, 0.49212575, 0.51861764, 0.64709475, 1.        ]])"
      ]
     },
     "execution_count": 57,
     "metadata": {},
     "output_type": "execute_result"
    }
   ],
   "source": [
    "hp_tuning('ttt', 3)"
   ]
  },
  {
   "cell_type": "markdown",
   "metadata": {},
   "source": [
    "### 7. Launching algorithm with best hyperparaneters"
   ]
  },
  {
   "cell_type": "code",
   "execution_count": 58,
   "metadata": {
    "pycharm": {
     "name": "#%%\n"
    }
   },
   "outputs": [
    {
     "name": "stdout",
     "output_type": "stream",
     "text": [
      "Accuracy score: 0.9139\n",
      "Roc AUC Score: 0.9107\n",
      "Precision Score: 0.8751\n",
      "Recall Score: 0.9822\n",
      "Randomness: 0.0000\n"
     ]
    }
   ],
   "source": [
    "# alg 1 Congressional Voting Records Data Set\n",
    "y_pred, y_real, metrics = alg_eval(dataset_shortname='cvrds', alg_n=1, threshold_subset= 0)\n",
    "avg_m_1_c = avg_metrics(metrics)\n",
    "print_metrics(avg_m_1_c)"
   ]
  },
  {
   "cell_type": "code",
   "execution_count": 63,
   "metadata": {
    "pycharm": {
     "name": "#%%\n"
    }
   },
   "outputs": [
    {
     "name": "stdout",
     "output_type": "stream",
     "text": [
      "Accuracy score: 0.9139\n",
      "Roc AUC Score: 0.9107\n",
      "Precision Score: 0.8751\n",
      "Recall Score: 0.9822\n",
      "Randomness: 0.0000\n"
     ]
    }
   ],
   "source": [
    "#alg 2 Congressional Voting Records Data Set\n",
    "y_pred, y_real, metrics = alg_eval(dataset_shortname='cvrds', alg_n=2, threshold_subset= 0, threshold_intersec=0)\n",
    "avg_m_2_c = avg_metrics(metrics)\n",
    "print_metrics(avg_m_2_c)"
   ]
  },
  {
   "cell_type": "code",
   "execution_count": 64,
   "metadata": {},
   "outputs": [
    {
     "name": "stdout",
     "output_type": "stream",
     "text": [
      "Accuracy score: 0.9226\n",
      "Roc AUC Score: 0.9166\n",
      "Precision Score: 0.8745\n",
      "Recall Score: 0.9889\n",
      "Randomness: 0.0130\n"
     ]
    }
   ],
   "source": [
    "#alg 3 Congressional Voting Records Data Set\n",
    "y_pred, y_real, metrics = alg_eval(dataset_shortname='cvrds', alg_n=3, threshold_subset= 0, threshold_intersec=0.4)\n",
    "avg_m_3_c = avg_metrics(metrics)\n",
    "print_metrics(avg_m_3_c)"
   ]
  },
  {
   "cell_type": "code",
   "execution_count": 65,
   "metadata": {},
   "outputs": [
    {
     "name": "stdout",
     "output_type": "stream",
     "text": [
      "Accuracy score: 0.9098\n",
      "Roc AUC Score: 0.9019\n",
      "Precision Score: 0.8995\n",
      "Recall Score: 0.9382\n",
      "Randomness: 0.0000\n"
     ]
    }
   ],
   "source": [
    "#alg 4 Congressional Voting Records Data Set\n",
    "y_pred, y_real, metrics = bernoulliNB(dataset_shortname='cvrds')\n",
    "avg_m_4_c = avg_metrics(metrics)\n",
    "print_metrics(avg_m_4_c)"
   ]
  },
  {
   "cell_type": "code",
   "execution_count": 66,
   "metadata": {
    "pycharm": {
     "name": "#%%\n"
    }
   },
   "outputs": [
    {
     "name": "stdout",
     "output_type": "stream",
     "text": [
      "Accuracy score: 0.8852\n",
      "Roc AUC Score: 0.9085\n",
      "Precision Score: 0.9826\n",
      "Recall Score: 0.8607\n",
      "Randomness: 0.0010\n"
     ]
    }
   ],
   "source": [
    "# alg 1 Tic-Tac Toe dataset\n",
    "y_pred, y_real, metrics = alg_eval(dataset_shortname='ttt', alg_n=1, threshold_subset= 0)\n",
    "avg_m_1_t = avg_metrics(metrics)\n",
    "print_metrics(avg_m_1_t)"
   ]
  },
  {
   "cell_type": "code",
   "execution_count": 67,
   "metadata": {
    "pycharm": {
     "name": "#%%\n"
    }
   },
   "outputs": [
    {
     "name": "stdout",
     "output_type": "stream",
     "text": [
      "Accuracy score: 0.9812\n",
      "Roc AUC Score: 0.9754\n",
      "Precision Score: 0.9708\n",
      "Recall Score: 1.0000\n",
      "Randomness: 0.0084\n"
     ]
    }
   ],
   "source": [
    "#alg 2 Tic-Tac Toe dataset\n",
    "y_pred, y_real, metrics = alg_eval(dataset_shortname='ttt', alg_n=2, threshold_subset=0, threshold_intersec=0.8)\n",
    "avg_m_2_t = avg_metrics(metrics)\n",
    "print_metrics(avg_m_2_t)"
   ]
  },
  {
   "cell_type": "code",
   "execution_count": 68,
   "metadata": {},
   "outputs": [
    {
     "name": "stdout",
     "output_type": "stream",
     "text": [
      "Accuracy score: 0.9572\n",
      "Roc AUC Score: 0.9503\n",
      "Precision Score: 0.9618\n",
      "Recall Score: 0.9735\n",
      "Randomness: 0.0501\n"
     ]
    }
   ],
   "source": [
    "#alg 3 Tic-Tac Toe dataset\n",
    "y_pred, y_real, metrics = alg_eval(dataset_shortname='ttt', alg_n=3, threshold_subset=0, threshold_intersec=0.7)\n",
    "avg_m_3_t = avg_metrics(metrics)\n",
    "print_metrics(avg_m_3_t)"
   ]
  },
  {
   "cell_type": "code",
   "execution_count": 69,
   "metadata": {},
   "outputs": [
    {
     "name": "stdout",
     "output_type": "stream",
     "text": [
      "Accuracy score: 0.6847\n",
      "Roc AUC Score: 0.6489\n",
      "Precision Score: 0.8014\n",
      "Recall Score: 0.7391\n",
      "Randomness: 0.0000\n"
     ]
    }
   ],
   "source": [
    "#alg 4 Tic-Tac Toe dataset\n",
    "y_pred, y_real, metrics = bernoulliNB(dataset_shortname='ttt')\n",
    "avg_m_4_t = avg_metrics(metrics)\n",
    "print_metrics(avg_m_4_t)"
   ]
  },
  {
   "cell_type": "markdown",
   "metadata": {},
   "source": [
    "### 8. Find best algotithm"
   ]
  },
  {
   "cell_type": "code",
   "execution_count": 70,
   "metadata": {},
   "outputs": [
    {
     "name": "stdout",
     "output_type": "stream",
     "text": [
      "[[0.91394928 0.91074634 0.87511889 0.98222222 0.        ]\n",
      " [0.91394928 0.91074634 0.87511889 0.98222222 0.        ]\n",
      " [0.92264493 0.9166453  0.87453409 0.98888889 0.01304348]\n",
      " [0.90978261 0.90186147 0.89953409 0.93824675 0.        ]]\n"
     ]
    }
   ],
   "source": [
    "avg_metrics_с = np.vstack([avg_m_1_c, avg_m_2_c,avg_m_3_c,avg_m_4_c])\n",
    "print(avg_metrics_с)"
   ]
  },
  {
   "cell_type": "code",
   "execution_count": 71,
   "metadata": {},
   "outputs": [
    {
     "name": "stdout",
     "output_type": "stream",
     "text": [
      "[[0.88515351 0.9085339  0.98256254 0.86074027 0.00104167]\n",
      " [0.98123904 0.97538195 0.97082872 1.         0.00835526]\n",
      " [0.95721491 0.95030227 0.96175425 0.97350313 0.05007675]\n",
      " [0.68473684 0.64893071 0.80139914 0.73911686 0.        ]]\n"
     ]
    }
   ],
   "source": [
    "avg_metrics_ttt = np.vstack([avg_m_1_t, avg_m_2_t,avg_m_3_t,avg_m_4_t])\n",
    "print(avg_metrics_ttt)"
   ]
  },
  {
   "cell_type": "markdown",
   "metadata": {},
   "source": [
    "Histogram plots"
   ]
  },
  {
   "cell_type": "code",
   "execution_count": 81,
   "metadata": {},
   "outputs": [],
   "source": [
    "def hist_plot(data, name):\n",
    "    x = np.arange(data.shape[0])\n",
    "    dx = (np.arange(data.shape[1])-data.shape[1]/2.)/(data.shape[1]+2.)\n",
    "    d = 1./(data.shape[1]+2.)\n",
    "\n",
    "\n",
    "    fig, ax=plt.subplots()\n",
    "    labels = ['Alg1','Alg2','Alg3','bNB']\n",
    "    x_axis = np.arange(0, 4, 1)\n",
    "    for i in range(data.shape[1]):\n",
    "        ax.bar(x+dx[i],data[:,i], width=d)#, label=\"label {}\".format(labels[i]))\n",
    "    plt.xticks(x_axis,labels)\n",
    "    plt.title(name)\n",
    "    plt.legend(['Accuracy score', 'ROC AUC', 'Precision','Recall', 'Randomness'],bbox_to_anchor=(1.05, 1), loc='upper left', borderaxespad=0.)\n",
    "    plt.grid()\n",
    "    plt.show()"
   ]
  },
  {
   "cell_type": "code",
   "execution_count": 82,
   "metadata": {},
   "outputs": [
    {
     "data": {
      "image/png": "[encoded data removed]",
      "text/plain": [
       "<Figure size 432x288 with 1 Axes>"
      ]
     },
     "metadata": {
      "needs_background": "light"
     },
     "output_type": "display_data"
    }
   ],
   "source": [
    "hist_plot(avg_metrics_с, name= 'Congressional Voting Records Data Set')"
   ]
  },
  {
   "cell_type": "code",
   "execution_count": 83,
   "metadata": {},
   "outputs": [
    {
     "data": {
      "image/png": "[encoded data removed]",
      "text/plain": [
       "<Figure size 432x288 with 1 Axes>"
      ]
     },
     "metadata": {
      "needs_background": "light"
     },
     "output_type": "display_data"
    }
   ],
   "source": [
    "hist_plot(avg_metrics_ttt, name= 'Tic-Tac-Toe Endgame Data Set')"
   ]
  },
  {
   "cell_type": "markdown",
   "metadata": {},
   "source": [
    "### 9. Results"
   ]
  },
  {
   "cell_type": "code",
   "execution_count": 84,
   "metadata": {},
   "outputs": [
    {
     "name": "stdout",
     "output_type": "stream",
     "text": [
      "Algorithm 3 is the best for dataset 1\n",
      "Accuracy score: 0.9226\n",
      "Roc AUC Score: 0.9166\n",
      "Precision Score: 0.8745\n",
      "Recall Score: 0.9889\n",
      "Randomness: 0.0130\n"
     ]
    }
   ],
   "source": [
    "print('Algorithm 3 is the best for dataset 1')\n",
    "print_metrics(avg_m_3_c)"
   ]
  },
  {
   "cell_type": "code",
   "execution_count": 86,
   "metadata": {},
   "outputs": [
    {
     "name": "stdout",
     "output_type": "stream",
     "text": [
      "Algorithm 2 is the best for dataset 2\n",
      "Accuracy score: 0.9812\n",
      "Roc AUC Score: 0.9754\n",
      "Precision Score: 0.9708\n",
      "Recall Score: 1.0000\n",
      "Randomness: 0.0084\n"
     ]
    }
   ],
   "source": [
    "print('Algorithm 2 is the best for dataset 2')\n",
    "print_metrics(avg_m_2_t)"
   ]
  },
  {
   "cell_type": "code",
   "execution_count": null,
   "metadata": {},
   "outputs": [],
   "source": []
  }
 ],
 "metadata": {
  "kernelspec": {
   "display_name": "Python 3",
   "language": "python",
   "name": "python3"
  },
  "language_info": {
   "codemirror_mode": {
    "name": "ipython",
    "version": 3
   },
   "file_extension": ".py",
   "mimetype": "text/x-python",
   "name": "python",
   "nbconvert_exporter": "python",
   "pygments_lexer": "ipython3",
   "version": "3.8.5"
  }
 },
 "nbformat": 4,
 "nbformat_minor": 4
}
